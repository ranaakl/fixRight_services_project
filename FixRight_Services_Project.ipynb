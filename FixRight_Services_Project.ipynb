{
 "cells": [
  {
   "cell_type": "markdown",
   "id": "1ae5d163",
   "metadata": {},
   "source": [
    "## FixRight Services Project"
   ]
  },
  {
   "cell_type": "code",
   "execution_count": 1,
   "id": "0a41c75e",
   "metadata": {},
   "outputs": [
    {
     "data": {
      "text/html": [
       "<div>\n",
       "<style scoped>\n",
       "    .dataframe tbody tr th:only-of-type {\n",
       "        vertical-align: middle;\n",
       "    }\n",
       "\n",
       "    .dataframe tbody tr th {\n",
       "        vertical-align: top;\n",
       "    }\n",
       "\n",
       "    .dataframe thead th {\n",
       "        text-align: right;\n",
       "    }\n",
       "</style>\n",
       "<table border=\"1\" class=\"dataframe\">\n",
       "  <thead>\n",
       "    <tr style=\"text-align: right;\">\n",
       "      <th></th>\n",
       "      <th>date</th>\n",
       "      <th>customer_id</th>\n",
       "      <th>channel</th>\n",
       "      <th>season</th>\n",
       "      <th>service_category</th>\n",
       "      <th>ad_spend</th>\n",
       "      <th>repeat_visit</th>\n",
       "      <th>job_revenue</th>\n",
       "    </tr>\n",
       "  </thead>\n",
       "  <tbody>\n",
       "    <tr>\n",
       "      <th>0</th>\n",
       "      <td>2024-06-14</td>\n",
       "      <td>8e9a3da4-4ed4-44e6-bbdc-e3eef37cc04d</td>\n",
       "      <td>In-store</td>\n",
       "      <td>Summer</td>\n",
       "      <td>Electrical</td>\n",
       "      <td>79.47</td>\n",
       "      <td>False</td>\n",
       "      <td>527.41</td>\n",
       "    </tr>\n",
       "    <tr>\n",
       "      <th>1</th>\n",
       "      <td>2025-03-18</td>\n",
       "      <td>9855e852-3f7f-458b-8b06-0b37d537bb1a</td>\n",
       "      <td>In-store</td>\n",
       "      <td>Spring</td>\n",
       "      <td>Cleaning</td>\n",
       "      <td>78.88</td>\n",
       "      <td>False</td>\n",
       "      <td>101.50</td>\n",
       "    </tr>\n",
       "    <tr>\n",
       "      <th>2</th>\n",
       "      <td>2024-06-13</td>\n",
       "      <td>71e764ad-e542-4b8f-8ad5-af72ada0fbf9</td>\n",
       "      <td>Instagram</td>\n",
       "      <td>Summer</td>\n",
       "      <td>HVAC</td>\n",
       "      <td>104.27</td>\n",
       "      <td>False</td>\n",
       "      <td>489.77</td>\n",
       "    </tr>\n",
       "    <tr>\n",
       "      <th>3</th>\n",
       "      <td>2025-04-16</td>\n",
       "      <td>54984a23-2df1-4f78-8e30-0189b6850c8b</td>\n",
       "      <td>Referral</td>\n",
       "      <td>Spring</td>\n",
       "      <td>Cleaning</td>\n",
       "      <td>53.38</td>\n",
       "      <td>False</td>\n",
       "      <td>305.88</td>\n",
       "    </tr>\n",
       "    <tr>\n",
       "      <th>4</th>\n",
       "      <td>2025-01-22</td>\n",
       "      <td>7a361e0a-4043-4848-b840-02cf2088056f</td>\n",
       "      <td>Instagram</td>\n",
       "      <td>Winter</td>\n",
       "      <td>Plumbing</td>\n",
       "      <td>96.52</td>\n",
       "      <td>False</td>\n",
       "      <td>182.45</td>\n",
       "    </tr>\n",
       "  </tbody>\n",
       "</table>\n",
       "</div>"
      ],
      "text/plain": [
       "        date                           customer_id    channel  season  \\\n",
       "0 2024-06-14  8e9a3da4-4ed4-44e6-bbdc-e3eef37cc04d   In-store  Summer   \n",
       "1 2025-03-18  9855e852-3f7f-458b-8b06-0b37d537bb1a   In-store  Spring   \n",
       "2 2024-06-13  71e764ad-e542-4b8f-8ad5-af72ada0fbf9  Instagram  Summer   \n",
       "3 2025-04-16  54984a23-2df1-4f78-8e30-0189b6850c8b   Referral  Spring   \n",
       "4 2025-01-22  7a361e0a-4043-4848-b840-02cf2088056f  Instagram  Winter   \n",
       "\n",
       "  service_category  ad_spend  repeat_visit  job_revenue  \n",
       "0       Electrical     79.47         False       527.41  \n",
       "1         Cleaning     78.88         False       101.50  \n",
       "2             HVAC    104.27         False       489.77  \n",
       "3         Cleaning     53.38         False       305.88  \n",
       "4         Plumbing     96.52         False       182.45  "
      ]
     },
     "execution_count": 1,
     "metadata": {},
     "output_type": "execute_result"
    }
   ],
   "source": [
    "# Load the dataset\n",
    "import pandas as pd\n",
    "\n",
    "df = pd.read_excel(\"01JTE7AA8FFKNCCTFYYR44ZRJZ.xlsx\")\n",
    "df.head()"
   ]
  },
  {
   "cell_type": "code",
   "execution_count": 2,
   "id": "af71d348",
   "metadata": {},
   "outputs": [
    {
     "name": "stdout",
     "output_type": "stream",
     "text": [
      "<class 'pandas.core.frame.DataFrame'>\n",
      "RangeIndex: 2000 entries, 0 to 1999\n",
      "Data columns (total 8 columns):\n",
      " #   Column            Non-Null Count  Dtype         \n",
      "---  ------            --------------  -----         \n",
      " 0   date              2000 non-null   datetime64[ns]\n",
      " 1   customer_id       2000 non-null   object        \n",
      " 2   channel           2000 non-null   object        \n",
      " 3   season            2000 non-null   object        \n",
      " 4   service_category  2000 non-null   object        \n",
      " 5   ad_spend          2000 non-null   float64       \n",
      " 6   repeat_visit      2000 non-null   bool          \n",
      " 7   job_revenue       2000 non-null   float64       \n",
      "dtypes: bool(1), datetime64[ns](1), float64(2), object(4)\n",
      "memory usage: 111.5+ KB\n"
     ]
    }
   ],
   "source": [
    "df.info()"
   ]
  },
  {
   "cell_type": "markdown",
   "id": "54c04153",
   "metadata": {},
   "source": [
    "* No missing values in the dataset."
   ]
  },
  {
   "cell_type": "code",
   "execution_count": 3,
   "id": "65fd1a6e",
   "metadata": {},
   "outputs": [
    {
     "data": {
      "text/html": [
       "<div>\n",
       "<style scoped>\n",
       "    .dataframe tbody tr th:only-of-type {\n",
       "        vertical-align: middle;\n",
       "    }\n",
       "\n",
       "    .dataframe tbody tr th {\n",
       "        vertical-align: top;\n",
       "    }\n",
       "\n",
       "    .dataframe thead th {\n",
       "        text-align: right;\n",
       "    }\n",
       "</style>\n",
       "<table border=\"1\" class=\"dataframe\">\n",
       "  <thead>\n",
       "    <tr style=\"text-align: right;\">\n",
       "      <th></th>\n",
       "      <th>date</th>\n",
       "      <th>ad_spend</th>\n",
       "      <th>job_revenue</th>\n",
       "    </tr>\n",
       "  </thead>\n",
       "  <tbody>\n",
       "    <tr>\n",
       "      <th>count</th>\n",
       "      <td>2000</td>\n",
       "      <td>2000.000000</td>\n",
       "      <td>2000.000000</td>\n",
       "    </tr>\n",
       "    <tr>\n",
       "      <th>mean</th>\n",
       "      <td>2024-10-30 17:35:31.200000</td>\n",
       "      <td>67.579255</td>\n",
       "      <td>438.390615</td>\n",
       "    </tr>\n",
       "    <tr>\n",
       "      <th>min</th>\n",
       "      <td>2024-05-02 00:00:00</td>\n",
       "      <td>15.000000</td>\n",
       "      <td>82.260000</td>\n",
       "    </tr>\n",
       "    <tr>\n",
       "      <th>25%</th>\n",
       "      <td>2024-07-29 00:00:00</td>\n",
       "      <td>42.815000</td>\n",
       "      <td>254.742500</td>\n",
       "    </tr>\n",
       "    <tr>\n",
       "      <th>50%</th>\n",
       "      <td>2024-10-30 00:00:00</td>\n",
       "      <td>67.115000</td>\n",
       "      <td>427.515000</td>\n",
       "    </tr>\n",
       "    <tr>\n",
       "      <th>75%</th>\n",
       "      <td>2025-02-01 00:00:00</td>\n",
       "      <td>94.500000</td>\n",
       "      <td>630.252500</td>\n",
       "    </tr>\n",
       "    <tr>\n",
       "      <th>max</th>\n",
       "      <td>2025-05-02 00:00:00</td>\n",
       "      <td>119.990000</td>\n",
       "      <td>799.050000</td>\n",
       "    </tr>\n",
       "    <tr>\n",
       "      <th>std</th>\n",
       "      <td>NaN</td>\n",
       "      <td>30.062985</td>\n",
       "      <td>209.774586</td>\n",
       "    </tr>\n",
       "  </tbody>\n",
       "</table>\n",
       "</div>"
      ],
      "text/plain": [
       "                             date     ad_spend  job_revenue\n",
       "count                        2000  2000.000000  2000.000000\n",
       "mean   2024-10-30 17:35:31.200000    67.579255   438.390615\n",
       "min           2024-05-02 00:00:00    15.000000    82.260000\n",
       "25%           2024-07-29 00:00:00    42.815000   254.742500\n",
       "50%           2024-10-30 00:00:00    67.115000   427.515000\n",
       "75%           2025-02-01 00:00:00    94.500000   630.252500\n",
       "max           2025-05-02 00:00:00   119.990000   799.050000\n",
       "std                           NaN    30.062985   209.774586"
      ]
     },
     "execution_count": 3,
     "metadata": {},
     "output_type": "execute_result"
    }
   ],
   "source": [
    "df.describe()"
   ]
  },
  {
   "cell_type": "code",
   "execution_count": 5,
   "id": "e6a5a674",
   "metadata": {},
   "outputs": [
    {
     "data": {
      "text/plain": [
       "(2000, 8)"
      ]
     },
     "execution_count": 5,
     "metadata": {},
     "output_type": "execute_result"
    }
   ],
   "source": [
    "df.shape"
   ]
  },
  {
   "cell_type": "code",
   "execution_count": 6,
   "id": "ccd0d44b",
   "metadata": {},
   "outputs": [
    {
     "data": {
      "text/plain": [
       "date                 363\n",
       "customer_id         2000\n",
       "channel                5\n",
       "season                 4\n",
       "service_category       4\n",
       "ad_spend            1819\n",
       "repeat_visit           2\n",
       "job_revenue         1965\n",
       "dtype: int64"
      ]
     },
     "execution_count": 6,
     "metadata": {},
     "output_type": "execute_result"
    }
   ],
   "source": [
    "df.nunique()"
   ]
  },
  {
   "cell_type": "code",
   "execution_count": 86,
   "id": "5e0d1668",
   "metadata": {},
   "outputs": [
    {
     "data": {
      "text/plain": [
       "Text(0.5, 1.0, 'Service Categories')"
      ]
     },
     "execution_count": 86,
     "metadata": {},
     "output_type": "execute_result"
    },
    {
     "data": {
      "image/png": "[encoded data removed]",
      "text/plain": [
       "<Figure size 640x480 with 1 Axes>"
      ]
     },
     "metadata": {},
     "output_type": "display_data"
    }
   ],
   "source": [
    "from matplotlib import pyplot as plt\n",
    "import seaborn as sns\n",
    "import plotly.express as px\n",
    "\n",
    "df.groupby('service_category').size().plot(kind='barh', color=sns.palettes.mpl_palette('Dark2'))\n",
    "plt.gca().spines[['top', 'right',]].set_visible(False)\n",
    "plt.xlabel(\"Count\")\n",
    "plt.ylabel(\"Service Category\")\n",
    "plt.title(\"Service Categories\")"
   ]
  },
  {
   "cell_type": "code",
   "execution_count": 17,
   "id": "3178baa7",
   "metadata": {},
   "outputs": [
    {
     "data": {
      "text/plain": [
       "service_category\n",
       "HVAC          523\n",
       "Electrical    516\n",
       "Cleaning      497\n",
       "Plumbing      464\n",
       "Name: count, dtype: int64"
      ]
     },
     "execution_count": 17,
     "metadata": {},
     "output_type": "execute_result"
    }
   ],
   "source": [
    "df.service_category.value_counts()\n"
   ]
  },
  {
   "cell_type": "code",
   "execution_count": 59,
   "id": "45db9e5a",
   "metadata": {},
   "outputs": [
    {
     "data": {
      "text/plain": [
       "service_category\n",
       "HVAC          274\n",
       "Electrical    256\n",
       "Cleaning      254\n",
       "Plumbing      240\n",
       "dtype: int64"
      ]
     },
     "execution_count": 59,
     "metadata": {},
     "output_type": "execute_result"
    }
   ],
   "source": [
    "df_one_time_usage = df[~df[\"repeat_visit\"]]\n",
    "\n",
    "df_one_time_usage.groupby(\"service_category\").size().sort_values(ascending=False)"
   ]
  },
  {
   "cell_type": "code",
   "execution_count": 83,
   "id": "93ddd819",
   "metadata": {},
   "outputs": [
    {
     "data": {
      "image/png": "[encoded data removed]",
      "text/plain": [
       "<Figure size 640x480 with 1 Axes>"
      ]
     },
     "metadata": {},
     "output_type": "display_data"
    }
   ],
   "source": [
    "df_one_time_usage.groupby('service_category').size().sort_values(ascending=False).plot(kind='bar', color=sns.palettes.mpl_palette('Dark2'))\n",
    "plt.gca().spines[['top', 'right',]].set_visible(False)\n",
    "plt.xlabel(\"Service Category\").set_color(\"darkblue\")\n",
    "plt.ylabel(\"Count\").set_color(\"darkblue\")\n",
    "plt.title(\"Service Categories by one-time usage rates\").set_color(\"darkblue\")"
   ]
  },
  {
   "cell_type": "markdown",
   "id": "e9812b79",
   "metadata": {},
   "source": [
    "* From the previous analysis, it is found that **HVAC** has the highest one-time usage rate followed by **Electrical**."
   ]
  },
  {
   "cell_type": "code",
   "execution_count": 85,
   "id": "56f68341",
   "metadata": {},
   "outputs": [
    {
     "data": {
      "text/plain": [
       "channel\n",
       "Referral      215\n",
       "In-store      202\n",
       "Facebook      196\n",
       "Instagram     192\n",
       "Google Ads    171\n",
       "dtype: int64"
      ]
     },
     "execution_count": 85,
     "metadata": {},
     "output_type": "execute_result"
    }
   ],
   "source": [
    "df_recurring_clients = df[df[\"repeat_visit\"]]\n",
    "\n",
    "df_recurring_clients.groupby(\"channel\").size().sort_values(ascending=False)"
   ]
  },
  {
   "cell_type": "markdown",
   "id": "b406d410",
   "metadata": {},
   "source": [
    "* Through tracking channel effectiveness in attracting recurring clients, **Referral** has highest effect while **Google Ads** has the lowest.\n",
    "* Ordering channels by effectiveness in attracting recurring clients from highest to lowest:\n",
    "    * **Referral**\n",
    "    * **In-store**\n",
    "    * **Facebook**\n",
    "    * **Instagram**\n",
    "    * **Google Ads**"
   ]
  },
  {
   "cell_type": "code",
   "execution_count": 84,
   "id": "33745f83",
   "metadata": {},
   "outputs": [
    {
     "data": {
      "image/png": "[encoded data removed]",
      "text/plain": [
       "<Figure size 640x480 with 1 Axes>"
      ]
     },
     "metadata": {},
     "output_type": "display_data"
    }
   ],
   "source": [
    "df_recurring_clients.groupby('channel').size().sort_values(ascending=False).plot(kind='bar', color=sns.palettes.mpl_palette('Dark2'))\n",
    "plt.gca().spines[['top', 'right',]].set_visible(False)\n",
    "plt.xlabel(\"Channel\").set_color(\"darkblue\")\n",
    "plt.ylabel(\"Count\").set_color(\"darkblue\")\n",
    "plt.title(\"Channels effectiveness in attracting recurring clients\").set_color(\"darkblue\")"
   ]
  },
  {
   "cell_type": "code",
   "execution_count": 91,
   "id": "4c0c7d22",
   "metadata": {},
   "outputs": [
    {
     "name": "stdout",
     "output_type": "stream",
     "text": [
      "Collecting yagmail\n",
      "  Downloading yagmail-0.15.293-py2.py3-none-any.whl.metadata (2.9 kB)\n",
      "Collecting premailer (from yagmail)\n",
      "  Downloading premailer-3.10.0-py2.py3-none-any.whl.metadata (15 kB)\n",
      "Requirement already satisfied: lxml in c:\\users\\engra\\anaconda3\\envs\\depi_env\\lib\\site-packages (from premailer->yagmail) (5.3.0)\n",
      "Collecting cssselect (from premailer->yagmail)\n",
      "  Downloading cssselect-1.3.0-py3-none-any.whl.metadata (2.6 kB)\n",
      "Collecting cssutils (from premailer->yagmail)\n",
      "  Downloading cssutils-2.11.1-py3-none-any.whl.metadata (8.7 kB)\n",
      "Requirement already satisfied: requests in c:\\users\\engra\\anaconda3\\envs\\depi_env\\lib\\site-packages (from premailer->yagmail) (2.32.3)\n",
      "Requirement already satisfied: cachetools in c:\\users\\engra\\anaconda3\\envs\\depi_env\\lib\\site-packages (from premailer->yagmail) (5.5.1)\n",
      "Collecting more-itertools (from cssutils->premailer->yagmail)\n",
      "  Downloading more_itertools-10.7.0-py3-none-any.whl.metadata (37 kB)\n",
      "Requirement already satisfied: charset-normalizer<4,>=2 in c:\\users\\engra\\anaconda3\\envs\\depi_env\\lib\\site-packages (from requests->premailer->yagmail) (3.3.2)\n",
      "Requirement already satisfied: idna<4,>=2.5 in c:\\users\\engra\\anaconda3\\envs\\depi_env\\lib\\site-packages (from requests->premailer->yagmail) (3.7)\n",
      "Requirement already satisfied: urllib3<3,>=1.21.1 in c:\\users\\engra\\anaconda3\\envs\\depi_env\\lib\\site-packages (from requests->premailer->yagmail) (2.2.3)\n",
      "Requirement already satisfied: certifi>=2017.4.17 in c:\\users\\engra\\anaconda3\\envs\\depi_env\\lib\\site-packages (from requests->premailer->yagmail) (2025.1.31)\n",
      "Downloading yagmail-0.15.293-py2.py3-none-any.whl (17 kB)\n",
      "Downloading premailer-3.10.0-py2.py3-none-any.whl (19 kB)\n",
      "Downloading cssselect-1.3.0-py3-none-any.whl (18 kB)\n",
      "Downloading cssutils-2.11.1-py3-none-any.whl (385 kB)\n",
      "Downloading more_itertools-10.7.0-py3-none-any.whl (65 kB)\n",
      "Installing collected packages: more-itertools, cssselect, cssutils, premailer, yagmail\n",
      "Successfully installed cssselect-1.3.0 cssutils-2.11.1 more-itertools-10.7.0 premailer-3.10.0 yagmail-0.15.293\n",
      "Note: you may need to restart the kernel to use updated packages.\n"
     ]
    }
   ],
   "source": [
    "pip install yagmail"
   ]
  },
  {
   "cell_type": "code",
   "execution_count": 95,
   "id": "eda7ee4c",
   "metadata": {},
   "outputs": [
    {
     "name": "stdout",
     "output_type": "stream",
     "text": [
      "Collecting keyring\n",
      "  Downloading keyring-25.6.0-py3-none-any.whl.metadata (20 kB)\n",
      "Collecting pywin32-ctypes>=0.2.0 (from keyring)\n",
      "  Downloading pywin32_ctypes-0.2.3-py3-none-any.whl.metadata (3.9 kB)\n",
      "Requirement already satisfied: importlib_metadata>=4.11.4 in c:\\users\\engra\\anaconda3\\envs\\depi_env\\lib\\site-packages (from keyring) (8.5.0)\n",
      "Collecting jaraco.classes (from keyring)\n",
      "  Downloading jaraco.classes-3.4.0-py3-none-any.whl.metadata (2.6 kB)\n",
      "Collecting jaraco.functools (from keyring)\n",
      "  Downloading jaraco.functools-4.1.0-py3-none-any.whl.metadata (2.9 kB)\n",
      "Collecting jaraco.context (from keyring)\n",
      "  Downloading jaraco.context-6.0.1-py3-none-any.whl.metadata (4.1 kB)\n",
      "Requirement already satisfied: zipp>=3.20 in c:\\users\\engra\\anaconda3\\envs\\depi_env\\lib\\site-packages (from importlib_metadata>=4.11.4->keyring) (3.21.0)\n",
      "Requirement already satisfied: more-itertools in c:\\users\\engra\\anaconda3\\envs\\depi_env\\lib\\site-packages (from jaraco.classes->keyring) (10.7.0)\n",
      "Collecting backports.tarfile (from jaraco.context->keyring)\n",
      "  Downloading backports.tarfile-1.2.0-py3-none-any.whl.metadata (2.0 kB)\n",
      "Downloading keyring-25.6.0-py3-none-any.whl (39 kB)\n",
      "Downloading pywin32_ctypes-0.2.3-py3-none-any.whl (30 kB)\n",
      "Downloading jaraco.classes-3.4.0-py3-none-any.whl (6.8 kB)\n",
      "Downloading jaraco.context-6.0.1-py3-none-any.whl (6.8 kB)\n",
      "Downloading jaraco.functools-4.1.0-py3-none-any.whl (10 kB)\n",
      "Downloading backports.tarfile-1.2.0-py3-none-any.whl (30 kB)\n",
      "Installing collected packages: pywin32-ctypes, jaraco.functools, jaraco.classes, backports.tarfile, jaraco.context, keyring\n",
      "Successfully installed backports.tarfile-1.2.0 jaraco.classes-3.4.0 jaraco.context-6.0.1 jaraco.functools-4.1.0 keyring-25.6.0 pywin32-ctypes-0.2.3\n",
      "Note: you may need to restart the kernel to use updated packages.\n"
     ]
    }
   ],
   "source": [
    "pip install keyring"
   ]
  },
  {
   "cell_type": "code",
   "execution_count": null,
   "id": "ab23bac1",
   "metadata": {},
   "outputs": [
    {
     "data": {
      "text/plain": [
       "{}"
      ]
     },
     "execution_count": 2,
     "metadata": {},
     "output_type": "execute_result"
    }
   ],
   "source": [
    "import yagmail\n",
    "\n",
    "yagmail.register(\"my@gmail.com\", \"mypassword\")\n",
    "\n",
    "yag = yagmail.SMTP('eng.rana.elsayed@gmail.com')\n",
    "yag.send('eng.rana.elsayed@gmail.com', subject = 'Maintenance Reminder', contents = 'Maintenance Reminder')"
   ]
  }
 ],
 "metadata": {
  "kernelspec": {
   "display_name": "depi_env",
   "language": "python",
   "name": "python3"
  },
  "language_info": {
   "codemirror_mode": {
    "name": "ipython",
    "version": 3
   },
   "file_extension": ".py",
   "mimetype": "text/x-python",
   "name": "python",
   "nbconvert_exporter": "python",
   "pygments_lexer": "ipython3",
   "version": "3.10.16"
  }
 },
 "nbformat": 4,
 "nbformat_minor": 5
}
